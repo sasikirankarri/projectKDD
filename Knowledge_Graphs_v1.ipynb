{
  "nbformat": 4,
  "nbformat_minor": 0,
  "metadata": {
    "colab": {
      "name": "Copy of knowledge_graph_wiki_infoext_final.ipynb",
      "provenance": [],
      "collapsed_sections": []
    },
    "kernelspec": {
      "name": "python3",
      "display_name": "Python 3"
    },
    "language_info": {
      "name": "python"
    }
  },
  "cells": [
    {
      "cell_type": "code",
      "metadata": {
        "id": "pJmcOMqCBE2p",
        "colab": {
          "base_uri": "https://localhost:8080/"
        },
        "outputId": "dbe5134f-0697-472f-f068-b3afe9fdd138"
      },
      "source": [
        "! bash bootstrap.sh\n"
      ],
      "execution_count": 2,
      "outputs": [
        {
          "output_type": "stream",
          "name": "stdout",
          "text": [
            "Requirement already satisfied: neo4j in /usr/local/lib/python3.7/dist-packages (from -r requirements (line 1)) (4.4.0)\n",
            "Requirement already satisfied: pyspark==3.1.2 in /usr/local/lib/python3.7/dist-packages (from -r requirements (line 2)) (3.1.2)\n",
            "Requirement already satisfied: spark-nlp in /usr/local/lib/python3.7/dist-packages (from -r requirements (line 3)) (3.3.4)\n",
            "Requirement already satisfied: tqdm in /usr/local/lib/python3.7/dist-packages (from -r requirements (line 4)) (4.62.3)\n",
            "Requirement already satisfied: py4j==0.10.9 in /usr/local/lib/python3.7/dist-packages (from pyspark==3.1.2->-r requirements (line 2)) (0.10.9)\n",
            "Requirement already satisfied: pytz in /usr/local/lib/python3.7/dist-packages (from neo4j->-r requirements (line 1)) (2018.9)\n",
            "--2021-12-11 14:25:54--  https://dumps.wikimedia.org/simplewiki/latest/simplewiki-latest-pages-articles-multistream.xml.bz2\n",
            "Resolving dumps.wikimedia.org (dumps.wikimedia.org)... 208.80.154.7, 2620:0:861:1:208:80:154:7\n",
            "Connecting to dumps.wikimedia.org (dumps.wikimedia.org)|208.80.154.7|:443... connected.\n",
            "HTTP request sent, awaiting response... 416 Requested Range Not Satisfiable\n",
            "\n",
            "    The file is already fully retrieved; nothing to do.\n",
            "\n"
          ]
        }
      ]
    },
    {
      "cell_type": "code",
      "source": [
        "import os\n",
        "os.environ[\"JAVA_HOME\"] = \"/usr/lib/jvm/java-8-openjdk-amd64\"\n",
        "os.environ[\"PATH\"] = os.environ[\"JAVA_HOME\"] + \"/bin:\" + os.environ[\"PATH\"]"
      ],
      "metadata": {
        "id": "i0MykxFnsQGS"
      },
      "execution_count": 3,
      "outputs": []
    },
    {
      "cell_type": "markdown",
      "metadata": {
        "id": "BO5_oIENBHMf"
      },
      "source": [
        "### Building Knowledge Graph\n",
        "This application is about organizing information and making it easy to access by humans and computers alike.\n"
      ]
    },
    {
      "cell_type": "markdown",
      "metadata": {
        "id": "HtjHNwZACQek"
      },
      "source": [
        "### Implement the solution"
      ]
    },
    {
      "cell_type": "markdown",
      "source": [
        " Import the libraries "
      ],
      "metadata": {
        "id": "nIVQvU91Dtnb"
      }
    },
    {
      "cell_type": "code",
      "metadata": {
        "id": "Zbbt06YICa1W"
      },
      "source": [
        "import json\n",
        "import re\n",
        "import pandas as pd\n",
        "import sparknlp\n",
        "\n",
        "from pyspark.ml import Pipeline\n",
        "from pyspark.sql import SparkSession, Row\n",
        "from pyspark.sql.functions import lit, col,udf,explode , split\n",
        "\n",
        "import sparknlp\n",
        "from sparknlp import DocumentAssembler, Finisher\n",
        "from sparknlp.annotator import *\n",
        "from pyspark.sql.types import MapType, StringType, IntegerType, ArrayType \n",
        "import pandas as pd\n",
        "import time\n",
        "from neo4j import GraphDatabase, basic_auth\n",
        "import time\n",
        "from tqdm import tqdm\n",
        "from urllib.request import urlopen\n",
        "import urllib.request\n",
        "from datetime import datetime"
      ],
      "execution_count": 4,
      "outputs": []
    },
    {
      "cell_type": "code",
      "source": [
        "from utils.Neo4jConnection import Neo4jConnection\n",
        "from utils.preprocess import cleanInfoBox,getPageIndexinCats,extractMovieEntity,extractPersonRelation"
      ],
      "metadata": {
        "id": "Ay5h-_qNk3QN"
      },
      "execution_count": 5,
      "outputs": []
    },
    {
      "cell_type": "markdown",
      "source": [
        "Start spark session"
      ],
      "metadata": {
        "id": "6Xb51ilDEY_w"
      }
    },
    {
      "cell_type": "code",
      "metadata": {
        "id": "3EqRZ9m7CgUQ"
      },
      "source": [
        "packages = [\n",
        "    \"com.johnsnowlabs.nlp:spark-nlp_2.12:3.3.4\",\n",
        "    'com.databricks:spark-xml_2.12:0.9.0'\n",
        "]\n",
        "\n",
        "spark = SparkSession.builder \\\n",
        "    .master(\"local[*]\") \\\n",
        "    .appName(\"Knowledge Graph\") \\\n",
        "    .config(\"spark.driver.memory\", \"12g\") \\\n",
        "    .config(\"spark.jars.packages\", ','.join(packages)) \\\n",
        "    .getOrCreate()"
      ],
      "execution_count": 6,
      "outputs": []
    },
    {
      "cell_type": "code",
      "metadata": {
        "id": "SojIdufkCm9I"
      },
      "source": [
        "# spark.sparkContext.getConf().getAll()"
      ],
      "execution_count": 7,
      "outputs": []
    },
    {
      "cell_type": "markdown",
      "metadata": {
        "id": "hmR4brLLC3AO"
      },
      "source": [
        "##### Read the data from the wikipedia"
      ]
    },
    {
      "cell_type": "code",
      "metadata": {
        "id": "8Zm3qoE0CsTo",
        "colab": {
          "base_uri": "https://localhost:8080/"
        },
        "outputId": "3a4ea8e0-81fd-4455-c209-2c2ae1cc78a6"
      },
      "source": [
        "data_start_time = time.time()\n",
        "print(\"{} - started the data load into main dataframe\".format(datetime.now()))"
      ],
      "execution_count": 8,
      "outputs": [
        {
          "output_type": "stream",
          "name": "stdout",
          "text": [
            "2021-12-11 14:26:22.749650 - started the data load into main dataframe\n"
          ]
        }
      ]
    },
    {
      "cell_type": "code",
      "metadata": {
        "id": "ggT93Ku0C-5k"
      },
      "source": [
        "df = spark.read\\\n",
        "    .format('xml')\\\n",
        "    .option(\"rootTag\", \"mediawiki\")\\\n",
        "    .option(\"rowTag\", \"page\")\\\n",
        "    .load(\"*.bz2\")\\\n",
        "    .persist()"
      ],
      "execution_count": 9,
      "outputs": []
    },
    {
      "cell_type": "code",
      "source": [
        "getInfoboxUDF = udf(lambda x:cleanInfoBox(x))"
      ],
      "metadata": {
        "id": "dAoFgFZuB5eQ"
      },
      "execution_count": 10,
      "outputs": []
    },
    {
      "cell_type": "markdown",
      "source": [
        "Get the page indices from the categories of interest "
      ],
      "metadata": {
        "id": "7-QpX9PiFSja"
      }
    },
    {
      "cell_type": "code",
      "source": [
        "index_start_time = time.time()\n",
        "print(\"{} - started the index extraction\".format(datetime.now()))"
      ],
      "metadata": {
        "colab": {
          "base_uri": "https://localhost:8080/"
        },
        "id": "HHKctdETivi1",
        "outputId": "97c063ec-e1d2-4240-92a3-2ed164362db8"
      },
      "execution_count": 11,
      "outputs": [
        {
          "output_type": "stream",
          "name": "stdout",
          "text": [
            "2021-12-11 14:29:38.255469 - started the index extraction\n"
          ]
        }
      ]
    },
    {
      "cell_type": "markdown",
      "source": [
        "Specify the category and wiki flag \n",
        "\n",
        "Please use the category for which you can find the data in wikipedia either simple wikipedia or english. By default , we have set this to simple to reduce the data\n",
        "\n",
        "Allowed values for WIKI_FLAG is 'simple' or 'en'"
      ],
      "metadata": {
        "id": "DUNiRFgUd1_N"
      }
    },
    {
      "cell_type": "code",
      "source": [
        "cat_config_list = []\n",
        "cat_config_file = open('category.config','r')\n",
        "l = cat_config_file.readlines()\n",
        "for ele in l:\n",
        "  res = ele.replace('\"','').replace('\\n',\"\").split(\",\")\n",
        "  cat_config_list.append(res)"
      ],
      "metadata": {
        "id": "2DqzLbYJdfdl"
      },
      "execution_count": 12,
      "outputs": []
    },
    {
      "cell_type": "code",
      "source": [
        "cat_config_list"
      ],
      "metadata": {
        "colab": {
          "base_uri": "https://localhost:8080/"
        },
        "id": "tMssv9J83TU-",
        "outputId": "8cabdeeb-c352-4b8a-a686-b5e50722d49a"
      },
      "execution_count": 13,
      "outputs": [
        {
          "output_type": "execute_result",
          "data": {
            "text/plain": [
              "[['Movies_based_on_books', 'simple'],\n",
              " ['Indian_cinema', 'en'],\n",
              " ['Indian_films', 'en']]"
            ]
          },
          "metadata": {},
          "execution_count": 13
        }
      ]
    },
    {
      "cell_type": "code",
      "source": [
        "\n",
        "pageIndexdf = spark.createDataFrame(getPageIndexinCats( cat_config_list,\"N\", \"\",[]), StringType()).withColumnRenamed(\"value\",\"PageIndex\")\n",
        "\n",
        "pageContentdf = pageIndexdf.join(df,pageIndexdf.PageIndex == df.id,\"inner\").select('PageIndex','revision.text._VALUE')\n",
        "\n",
        "print(\"Total pages: {}\".format(pageContentdf.count()))\n",
        "\n",
        "pageidDF = pageContentdf.filter(pageContentdf._VALUE.contains('{{Infobox')).select('PageIndex')\n",
        "pageidlist = [int(row.PageIndex) for row in pageidDF.collect()]\n",
        "\n"
      ],
      "metadata": {
        "colab": {
          "base_uri": "https://localhost:8080/"
        },
        "id": "DF1x8jrcbBBK",
        "outputId": "bb9645c0-2526-457c-8b1a-f90608f46881"
      },
      "execution_count": 15,
      "outputs": [
        {
          "output_type": "stream",
          "name": "stdout",
          "text": [
            "2021-12-11 14:30:59.266456 - Completed fetching page index for category : ['Movies_based_on_books', 'simple'], (Cumulative) Records found: 500\n",
            "2021-12-11 14:30:59.348590 - No record found - Fetching page index for category : ['Indian_cinema', 'en'], (Cumulative) Records found: 500\n",
            "2021-12-11 14:30:59.478816 - Completed fetching page index for category : ['Indian_films', 'en'], (Cumulative) Records found: 1000\n"
          ]
        }
      ]
    },
    {
      "cell_type": "code",
      "source": [
        "pageidDF = pageContentdf.filter(pageContentdf._VALUE.contains('{{Infobox')).select('PageIndex').distinct()\n",
        "pageidlist = [int(row.PageIndex) for row in pageidDF.collect()]"
      ],
      "metadata": {
        "id": "z296n6OvgRPr"
      },
      "execution_count": 43,
      "outputs": []
    },
    {
      "cell_type": "code",
      "source": [
        "print(\"{} - Total pages selected after filter Count : {} \".format(datetime.now(),len(pageidlist)))\n"
      ],
      "metadata": {
        "colab": {
          "base_uri": "https://localhost:8080/"
        },
        "id": "kDhdPpXYggmB",
        "outputId": "2ea692aa-a196-4eb7-cb07-6e129c43c60c"
      },
      "execution_count": 44,
      "outputs": [
        {
          "output_type": "stream",
          "name": "stdout",
          "text": [
            "2021-12-11 14:48:25.677193 - Total pages selected after filter Count : 118 \n"
          ]
        }
      ]
    },
    {
      "cell_type": "markdown",
      "source": [
        "Process the data for the category of interest\n"
      ],
      "metadata": {
        "id": "DA50ahKIFsH9"
      }
    },
    {
      "cell_type": "code",
      "source": [
        "data_process_start_time = time.time()\n",
        "print(\"{} - started reading the data \".format(datetime.now()))"
      ],
      "metadata": {
        "colab": {
          "base_uri": "https://localhost:8080/"
        },
        "id": "NgpR5A-tgW6B",
        "outputId": "c8db3463-fc89-4951-e458-8f380d7bda1d"
      },
      "execution_count": 45,
      "outputs": [
        {
          "output_type": "stream",
          "name": "stdout",
          "text": [
            "2021-12-11 14:48:25.688665 - started reading the data \n"
          ]
        }
      ]
    },
    {
      "cell_type": "code",
      "source": [
        "data = df.filter('redirect IS NULL').selectExpr('id','title',\n",
        "    'revision.text._VALUE AS text'\n",
        ").filter('redirect IS NULL').filter('ns == 0')"
      ],
      "metadata": {
        "id": "OC_LDLgMIpVn"
      },
      "execution_count": 46,
      "outputs": []
    },
    {
      "cell_type": "code",
      "source": [
        "InfoData = data.filter(col('id').isin(pageidlist)).cache()"
      ],
      "metadata": {
        "id": "DidgHfGYBeud"
      },
      "execution_count": 47,
      "outputs": []
    },
    {
      "cell_type": "code",
      "source": [
        "# InfoData.select(getInfoboxUDF('text').alias('info')).collect()"
      ],
      "metadata": {
        "id": "ejBPvS9HGTxX"
      },
      "execution_count": 48,
      "outputs": []
    },
    {
      "cell_type": "markdown",
      "source": [
        "Extract the Movie entities "
      ],
      "metadata": {
        "id": "3WI4DG6sHZFH"
      }
    },
    {
      "cell_type": "code",
      "source": [
        "movieEntityUDF = udf(lambda x : extractMovieEntity(x) ,MapType(StringType(),StringType())  )"
      ],
      "metadata": {
        "id": "EyLPfhh6b7yh"
      },
      "execution_count": 49,
      "outputs": []
    },
    {
      "cell_type": "code",
      "source": [
        "infodata= InfoData.select('title',getInfoboxUDF(col('text')).alias('info'))"
      ],
      "metadata": {
        "id": "obqvbFG6IHU4"
      },
      "execution_count": 50,
      "outputs": []
    },
    {
      "cell_type": "code",
      "source": [
        "movieEntityNeodf = infodata.select('title',movieEntityUDF('info').alias('MovieEntity')).toPandas()\n"
      ],
      "metadata": {
        "id": "96kA272ns5Si"
      },
      "execution_count": 51,
      "outputs": []
    },
    {
      "cell_type": "code",
      "source": [
        "movieEntityDFlist = list(movieEntityNeodf['MovieEntity'])"
      ],
      "metadata": {
        "id": "W4wXKZ_USPXp"
      },
      "execution_count": 53,
      "outputs": []
    },
    {
      "cell_type": "code",
      "source": [
        "movieEntityLoadDF = pd.DataFrame(movieEntityDFlist)"
      ],
      "metadata": {
        "id": "kv-ZVKAsSY27"
      },
      "execution_count": 54,
      "outputs": []
    },
    {
      "cell_type": "markdown",
      "source": [
        "#### Extract relation between Movie and person"
      ],
      "metadata": {
        "id": "i4lzThHb2f5u"
      }
    },
    {
      "cell_type": "code",
      "source": [
        "PersonRelationUDF = udf(lambda x : extractPersonRelation(x),ArrayType(StringType()))"
      ],
      "metadata": {
        "id": "uBHTkVcpwfPX"
      },
      "execution_count": 55,
      "outputs": []
    },
    {
      "cell_type": "code",
      "source": [
        "relationPersonDF = infodata.select('title',PersonRelationUDF('info').alias('extractPersonRelation')).select('title',explode(col('extractPersonRelation')).alias('PersonRelation'))"
      ],
      "metadata": {
        "id": "og2JCN9awlJu"
      },
      "execution_count": 56,
      "outputs": []
    },
    {
      "cell_type": "code",
      "source": [
        "movie_person_rel_df = relationPersonDF.select('title',split(col('PersonRelation'),'~')[0].alias('relation'),split(col('PersonRelation'),'~')[1].alias('person')).toPandas()"
      ],
      "metadata": {
        "id": "v8Was4RRX9cD"
      },
      "execution_count": 57,
      "outputs": []
    },
    {
      "cell_type": "code",
      "source": [
        "movie_person_rel_df.tail()"
      ],
      "metadata": {
        "colab": {
          "base_uri": "https://localhost:8080/",
          "height": 206
        },
        "id": "-_tuUEOf4xNI",
        "outputId": "03a65318-a4d6-487f-910a-aa223ccbc345"
      },
      "execution_count": 58,
      "outputs": [
        {
          "output_type": "execute_result",
          "data": {
            "text/html": [
              "<div>\n",
              "<style scoped>\n",
              "    .dataframe tbody tr th:only-of-type {\n",
              "        vertical-align: middle;\n",
              "    }\n",
              "\n",
              "    .dataframe tbody tr th {\n",
              "        vertical-align: top;\n",
              "    }\n",
              "\n",
              "    .dataframe thead th {\n",
              "        text-align: right;\n",
              "    }\n",
              "</style>\n",
              "<table border=\"1\" class=\"dataframe\">\n",
              "  <thead>\n",
              "    <tr style=\"text-align: right;\">\n",
              "      <th></th>\n",
              "      <th>title</th>\n",
              "      <th>relation</th>\n",
              "      <th>person</th>\n",
              "    </tr>\n",
              "  </thead>\n",
              "  <tbody>\n",
              "    <tr>\n",
              "      <th>1011</th>\n",
              "      <td>Eye of the Needle (movie)</td>\n",
              "      <td>starring</td>\n",
              "      <td>Kate Nelligan</td>\n",
              "    </tr>\n",
              "    <tr>\n",
              "      <th>1012</th>\n",
              "      <td>Eye of the Needle (movie)</td>\n",
              "      <td>starring</td>\n",
              "      <td>Christopher Cazenove</td>\n",
              "    </tr>\n",
              "    <tr>\n",
              "      <th>1013</th>\n",
              "      <td>Eye of the Needle (movie)</td>\n",
              "      <td>producer</td>\n",
              "      <td>Stephen J. Friedman</td>\n",
              "    </tr>\n",
              "    <tr>\n",
              "      <th>1014</th>\n",
              "      <td>Eye of the Needle (movie)</td>\n",
              "      <td>director</td>\n",
              "      <td>Richard Marquand</td>\n",
              "    </tr>\n",
              "    <tr>\n",
              "      <th>1015</th>\n",
              "      <td>Eye of the Needle (movie)</td>\n",
              "      <td>music</td>\n",
              "      <td>Miklós Rózsa</td>\n",
              "    </tr>\n",
              "  </tbody>\n",
              "</table>\n",
              "</div>"
            ],
            "text/plain": [
              "                          title  relation                person\n",
              "1011  Eye of the Needle (movie)  starring         Kate Nelligan\n",
              "1012  Eye of the Needle (movie)  starring  Christopher Cazenove\n",
              "1013  Eye of the Needle (movie)  producer   Stephen J. Friedman\n",
              "1014  Eye of the Needle (movie)  director      Richard Marquand\n",
              "1015  Eye of the Needle (movie)     music          Miklós Rózsa"
            ]
          },
          "metadata": {},
          "execution_count": 58
        }
      ]
    },
    {
      "cell_type": "markdown",
      "source": [
        "Get details associated with Person"
      ],
      "metadata": {
        "id": "xLazMCFuH8mm"
      }
    },
    {
      "cell_type": "code",
      "source": [
        "person_entity = pd.DataFrame(movie_person_rel_df['person'].unique(),columns=['name'])"
      ],
      "metadata": {
        "id": "G4mWrkLczMeS"
      },
      "execution_count": 59,
      "outputs": []
    },
    {
      "cell_type": "code",
      "source": [
        "end_time = time.time()\n",
        "print(\"{} - completed the data processing \".format(datetime.now()))"
      ],
      "metadata": {
        "colab": {
          "base_uri": "https://localhost:8080/"
        },
        "id": "CHO5NZioabe6",
        "outputId": "f79051b8-962b-44f3-91ee-704b69a21325"
      },
      "execution_count": 60,
      "outputs": [
        {
          "output_type": "stream",
          "name": "stdout",
          "text": [
            "2021-12-11 14:48:31.222533 - completed the data processing \n"
          ]
        }
      ]
    },
    {
      "cell_type": "code",
      "source": [
        "print(end_time-data_start_time)\n",
        "print(index_start_time - data_start_time)\n",
        "print(end_time-data_process_start_time)\n",
        "print( data_process_start_time - data_start_time )"
      ],
      "metadata": {
        "colab": {
          "base_uri": "https://localhost:8080/"
        },
        "id": "EKHQUaZVauWx",
        "outputId": "d4d3cb90-04a2-41ae-93a6-5a494871aaa1"
      },
      "execution_count": 61,
      "outputs": [
        {
          "output_type": "stream",
          "name": "stdout",
          "text": [
            "1328.4729092121124\n",
            "195.50582766532898\n",
            "5.533868312835693\n",
            "1322.9390408992767\n"
          ]
        }
      ]
    },
    {
      "cell_type": "markdown",
      "source": [
        " Loading Data into Neo 4 j"
      ],
      "metadata": {
        "id": "fK-PnzHpXBjL"
      }
    },
    {
      "cell_type": "code",
      "source": [
        "neo_config_file = open('neo4j.config','r')\n",
        "contents = neo_config_file.read().split('\\n')\n",
        "uri = contents[0].split('=')[1]\n",
        "pwd = contents[1].split('=')[1]\n",
        "user= contents[2].split('=')[1]\n",
        "conn = Neo4jConnection(uri,user,pwd)"
      ],
      "metadata": {
        "id": "5NKR5nKbU6HQ"
      },
      "execution_count": 62,
      "outputs": []
    },
    {
      "cell_type": "markdown",
      "source": [
        "Clean the existing in graph db"
      ],
      "metadata": {
        "id": "9Ucb6jZoIcU2"
      }
    },
    {
      "cell_type": "code",
      "source": [
        "delete_all_nodes = 'MATCH (n) DETACH DELETE n;'\n",
        "\n",
        "conn.query(delete_all_nodes)"
      ],
      "metadata": {
        "id": "lJKY6_lVVc9B",
        "colab": {
          "base_uri": "https://localhost:8080/"
        },
        "outputId": "c2a8fbd4-ea8f-4a10-9a9c-990c1c8a35d9"
      },
      "execution_count": 64,
      "outputs": [
        {
          "output_type": "execute_result",
          "data": {
            "text/plain": [
              "[]"
            ]
          },
          "metadata": {},
          "execution_count": 64
        }
      ]
    },
    {
      "cell_type": "markdown",
      "source": [
        "Load Movie data into the  node in Neo4j"
      ],
      "metadata": {
        "id": "einx4XSpIlDY"
      }
    },
    {
      "cell_type": "code",
      "source": [
        "query = '''\n",
        "UNWIND $rows as row\n",
        " CREATE (e:Movie {  title : row.name, name : row.name ,budget : row.budget, released :row.released ,runtime :row.runtime } )\n",
        " '''\n",
        "batch_size = 1000\n",
        "batch_id = 0 \n",
        "while batch_id < len(movieEntityLoadDF)/batch_size:\n",
        "\n",
        "  res = conn.query(query, parameters = {'rows':movieEntityLoadDF[batch_id*batch_size: (batch_id+1)*batch_size].reset_index().to_dict('records')})\n",
        "  batch_id += 1"
      ],
      "metadata": {
        "id": "JNKFLFQ1ViDD"
      },
      "execution_count": 65,
      "outputs": []
    },
    {
      "cell_type": "markdown",
      "source": [
        "Load the data into the node in Neo4j"
      ],
      "metadata": {
        "id": "Dt2y-aF1Ix5J"
      }
    },
    {
      "cell_type": "code",
      "source": [
        "query = '''\n",
        "UNWIND $rows as row\n",
        " CREATE (e:Person { name : row.name } )\n",
        " '''\n",
        "\n",
        "batch_size = 1000\n",
        "batch_id = 0 \n",
        "\n",
        "while batch_id < len(person_entity)/batch_size:\n",
        "\n",
        "  res = conn.query(query, parameters = {'rows':person_entity[batch_id*batch_size: (batch_id+1)*batch_size].reset_index().to_dict('records')})\n",
        "  batch_id += 1"
      ],
      "metadata": {
        "id": "1Rk7TmgVzR7H"
      },
      "execution_count": 66,
      "outputs": []
    },
    {
      "cell_type": "markdown",
      "source": [
        "Load the relationship between Movie and person "
      ],
      "metadata": {
        "id": "ZWTAj9wFI6h9"
      }
    },
    {
      "cell_type": "code",
      "source": [
        "query = ''' \n",
        "UNWIND $rows as row\n",
        "MATCH (entity1:Movie {name: row.title}),(entity2:Person {name: row.person})\n",
        "CALL apoc.create.relationship(entity1, row.relation,NULL, entity2) YIELD rel\n",
        "RETURN entity1.name, type(rel), entity2.name \n",
        "'''\n",
        "\n",
        "\n",
        "batch_size = 10\n",
        "batch_id = 1 \n",
        "\n",
        "while batch_id < len(movie_person_rel_df)/batch_size:\n",
        "# while batch_id < 3:\n",
        "\n",
        "  res = conn.query(query, parameters = {'rows':movie_person_rel_df[batch_id*batch_size: (batch_id+1)*batch_size].reset_index(drop=True).to_dict('records')})\n",
        "  batch_id += 1"
      ],
      "metadata": {
        "id": "qJFzYkoD5gkE"
      },
      "execution_count": 67,
      "outputs": []
    },
    {
      "cell_type": "code",
      "source": [
        "print(\"{} - completed the loading data to neo4j \".format(datetime.now()))"
      ],
      "metadata": {
        "colab": {
          "base_uri": "https://localhost:8080/"
        },
        "id": "weYeDJoiZe9p",
        "outputId": "93912b8f-c654-4bc3-e621-6b15d777ca83"
      },
      "execution_count": 68,
      "outputs": [
        {
          "output_type": "stream",
          "name": "stdout",
          "text": [
            "2021-12-11 14:48:35.252685 - completed the loading data to neo4j \n"
          ]
        }
      ]
    }
  ]
}