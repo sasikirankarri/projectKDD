{
  "nbformat": 4,
  "nbformat_minor": 0,
  "metadata": {
    "colab": {
      "name": "knowledge_graph_wiki_infoext_final.ipynb",
      "provenance": [],
      "collapsed_sections": []
    },
    "kernelspec": {
      "name": "python3",
      "display_name": "Python 3"
    },
    "language_info": {
      "name": "python"
    }
  },
  "cells": [
    {
      "cell_type": "code",
      "metadata": {
        "id": "pJmcOMqCBE2p",
        "colab": {
          "base_uri": "https://localhost:8080/"
        },
        "outputId": "b1886a7a-c5fa-4302-b7c5-3a3d8418224e"
      },
      "source": [
        "import os\n",
        "\n",
        "# Install java\n",
        "! apt-get install -y openjdk-8-jdk-headless -qq > /dev/null\n",
        "os.environ[\"JAVA_HOME\"] = \"/usr/lib/jvm/java-8-openjdk-amd64\"\n",
        "os.environ[\"PATH\"] = os.environ[\"JAVA_HOME\"] + \"/bin:\" + os.environ[\"PATH\"]\n",
        "! java -version\n",
        "\n",
        "# Install pyspark\n",
        "#! pip install --ignore-installed pyspark==2.4.4\n",
        "\n",
        "! pip install --upgrade -q pyspark==3.1.2 \n",
        "\n",
        "# Install Spark NLP\n",
        "! pip install  spark-nlp"
      ],
      "execution_count": null,
      "outputs": [
        {
          "output_type": "stream",
          "name": "stdout",
          "text": [
            "openjdk version \"1.8.0_292\"\n",
            "OpenJDK Runtime Environment (build 1.8.0_292-8u292-b10-0ubuntu1~18.04-b10)\n",
            "OpenJDK 64-Bit Server VM (build 25.292-b10, mixed mode)\n",
            "Requirement already satisfied: spark-nlp in /usr/local/lib/python3.7/dist-packages (3.3.4)\n"
          ]
        }
      ]
    },
    {
      "cell_type": "code",
      "metadata": {
        "id": "xT2uZlkwB-Sr",
        "colab": {
          "base_uri": "https://localhost:8080/"
        },
        "outputId": "04fe873d-679b-4732-b60e-a23a5b8a67e3"
      },
      "source": [
        "! pip install neo4j\n",
        "! pip install tqdm"
      ],
      "execution_count": null,
      "outputs": [
        {
          "output_type": "stream",
          "name": "stdout",
          "text": [
            "Requirement already satisfied: neo4j in /usr/local/lib/python3.7/dist-packages (4.4.0)\n",
            "Requirement already satisfied: pytz in /usr/local/lib/python3.7/dist-packages (from neo4j) (2018.9)\n",
            "Requirement already satisfied: tqdm in /usr/local/lib/python3.7/dist-packages (4.62.3)\n"
          ]
        }
      ]
    },
    {
      "cell_type": "markdown",
      "metadata": {
        "id": "BO5_oIENBHMf"
      },
      "source": [
        "### Building Knowledge Graph\n",
        "This application is about organizing information and making it easy to access by humans and computers alike. This is known as a knowledge base. The popularity of knowledge bases in the field of NLP has waned in recent decades as the focus has moved away from \"expert systems\" to statistical machine learning approaches.\n"
      ]
    },
    {
      "cell_type": "code",
      "metadata": {
        "id": "IyHzxYb7Bseq",
        "colab": {
          "base_uri": "https://localhost:8080/"
        },
        "outputId": "c1541e56-9cd5-47c4-fced-0c6ab089ab1b"
      },
      "source": [
        "! wget https://dumps.wikimedia.org/simplewiki/latest/simplewiki-latest-pages-articles-multistream.xml.bz2"
      ],
      "execution_count": null,
      "outputs": [
        {
          "output_type": "stream",
          "name": "stdout",
          "text": [
            "--2021-12-10 18:25:53--  https://dumps.wikimedia.org/simplewiki/latest/simplewiki-latest-pages-articles-multistream.xml.bz2\n",
            "Resolving dumps.wikimedia.org (dumps.wikimedia.org)... 208.80.154.7, 2620:0:861:1:208:80:154:7\n",
            "Connecting to dumps.wikimedia.org (dumps.wikimedia.org)|208.80.154.7|:443... connected.\n",
            "HTTP request sent, awaiting response... 200 OK\n",
            "Length: 231325259 (221M) [application/octet-stream]\n",
            "Saving to: ‘simplewiki-latest-pages-articles-multistream.xml.bz2.2’\n",
            "\n",
            "simplewiki-latest-p 100%[===================>] 220.61M  5.00MB/s    in 44s     \n",
            "\n",
            "2021-12-10 18:26:38 (4.99 MB/s) - ‘simplewiki-latest-pages-articles-multistream.xml.bz2.2’ saved [231325259/231325259]\n",
            "\n"
          ]
        }
      ]
    },
    {
      "cell_type": "markdown",
      "metadata": {
        "id": "HtjHNwZACQek"
      },
      "source": [
        "### Implement the solution"
      ]
    },
    {
      "cell_type": "code",
      "metadata": {
        "id": "Zbbt06YICa1W"
      },
      "source": [
        "import json\n",
        "import re\n",
        "import pandas as pd\n",
        "import sparknlp\n",
        "\n",
        "from pyspark.ml import Pipeline\n",
        "from pyspark.sql import SparkSession, Row\n",
        "from pyspark.sql.functions import lit, col,udf,explode , split\n",
        "\n",
        "import sparknlp\n",
        "from sparknlp import DocumentAssembler, Finisher\n",
        "from sparknlp.annotator import *"
      ],
      "execution_count": null,
      "outputs": []
    },
    {
      "cell_type": "code",
      "metadata": {
        "id": "OtuvTRNMAqtN"
      },
      "source": [
        "from pyspark.sql.types import MapType, StringType, IntegerType, ArrayType "
      ],
      "execution_count": null,
      "outputs": []
    },
    {
      "cell_type": "code",
      "source": [
        "import pandas as pd"
      ],
      "metadata": {
        "id": "lKsld2HbWlVS"
      },
      "execution_count": null,
      "outputs": []
    },
    {
      "cell_type": "code",
      "source": [
        "from neo4j import GraphDatabase, basic_auth\n",
        "import time\n",
        "from tqdm import tqdm"
      ],
      "metadata": {
        "id": "HznxKZKoWf2z"
      },
      "execution_count": null,
      "outputs": []
    },
    {
      "cell_type": "code",
      "source": [
        "from urllib.request import urlopen\n",
        "import urllib.request"
      ],
      "metadata": {
        "id": "Mv1YaL0CdA-I"
      },
      "execution_count": null,
      "outputs": []
    },
    {
      "cell_type": "code",
      "source": [
        "from datetime import datetime"
      ],
      "metadata": {
        "id": "9NQeTFpJdelk"
      },
      "execution_count": null,
      "outputs": []
    },
    {
      "cell_type": "code",
      "metadata": {
        "id": "3EqRZ9m7CgUQ"
      },
      "source": [
        "packages = [\n",
        "    \"com.johnsnowlabs.nlp:spark-nlp_2.12:3.3.4\",\n",
        "    'com.databricks:spark-xml_2.12:0.9.0'\n",
        "]\n",
        "\n",
        "spark = SparkSession.builder \\\n",
        "    .master(\"local[*]\") \\\n",
        "    .appName(\"Knowledge Graph\") \\\n",
        "    .config(\"spark.driver.memory\", \"12g\") \\\n",
        "    .config(\"spark.jars.packages\", ','.join(packages)) \\\n",
        "    .getOrCreate()"
      ],
      "execution_count": null,
      "outputs": []
    },
    {
      "cell_type": "code",
      "metadata": {
        "id": "SojIdufkCm9I"
      },
      "source": [
        "# spark.sparkContext.getConf().getAll()"
      ],
      "execution_count": null,
      "outputs": []
    },
    {
      "cell_type": "markdown",
      "metadata": {
        "id": "hmR4brLLC3AO"
      },
      "source": [
        "##### Read the data from the wikipedia"
      ]
    },
    {
      "cell_type": "code",
      "metadata": {
        "id": "8Zm3qoE0CsTo",
        "colab": {
          "base_uri": "https://localhost:8080/"
        },
        "outputId": "7b350395-28fb-4900-e67f-e77f74abbd31"
      },
      "source": [
        "data_start_time = time.time()\n",
        "print(data_start_time)"
      ],
      "execution_count": null,
      "outputs": [
        {
          "output_type": "stream",
          "name": "stdout",
          "text": [
            "1639160798.752957\n"
          ]
        }
      ]
    },
    {
      "cell_type": "code",
      "source": [
        ""
      ],
      "metadata": {
        "id": "i8m8Ids7l5lr"
      },
      "execution_count": null,
      "outputs": []
    },
    {
      "cell_type": "code",
      "metadata": {
        "id": "ggT93Ku0C-5k"
      },
      "source": [
        "df = spark.read\\\n",
        "    .format('xml')\\\n",
        "    .option(\"rootTag\", \"mediawiki\")\\\n",
        "    .option(\"rowTag\", \"page\")\\\n",
        "    .load(\"simplewiki-latest-pages-articles-multistream.xml.bz2\")\\\n",
        "    .persist()"
      ],
      "execution_count": null,
      "outputs": []
    },
    {
      "cell_type": "code",
      "metadata": {
        "id": "LUrN0j8xDA9D"
      },
      "source": [
        "# sections = df.filter('redirect IS NULL').filter('ns == 0').select(col('title'),col('revision.text._VALUE').alias('text'))\\\n",
        "# .filter('title =  \"Titanic (1997 movie)\"')\n"
      ],
      "execution_count": null,
      "outputs": []
    },
    {
      "cell_type": "code",
      "source": [
        "def cleanInfoBox(answer):\n",
        "  infoboxDict = {}\n",
        "  try:\n",
        "    x=answer.index(\"{{Infobox\")\n",
        "    y=answer.index(\"'''\")\n",
        "    answer = answer[x:y].replace(\"\\n\",\"\")\n",
        "    answer = re.sub(r\"<ref.*<\\/ref>|<ref.*?\\/>|\\*|\\;\",\"\",answer)\n",
        "    #answer = re.sub(r\"<ref.*?\\/>|\\*|\\;\",\"\",answer)\n",
        "    answer = re.sub(r\"\\s\\s+|&nbsp\",\" \",answer)\n",
        "    #answer = re.sub(r\"&nbsp\",\" \",answer)\n",
        "    answer = re.sub(r\" = \",\"=\",answer)\n",
        "    answer = re.sub(r\"\\<\\!\\-\\-.*?\\-\\-\\>\",\"\",answer)\n",
        "    #answer = re.sub(r\"(?<=\\[\\[)(.*?)(?=\\]\\])\", \"\\\\1,\",answer)\n",
        "    answer = re.sub(r\"\\[\\[(.*?)\\]\\]\", \"\\\\1,\",answer)\n",
        "    answer = re.sub(r\"={{(.*?)\\|(.*?)}}\", \"=\\\\2,\",answer)\n",
        "    answer = re.sub(r\"{|}|<br />|<br/>|<br>\",\"\",answer)\n",
        "    #answer = re.sub(r\"(\\|+.*?=)\",\"#-\\\\1\",answer)\n",
        "    def replacePipe(answer):\n",
        "      answer = re.sub(r\"(\\|.[^=]*?\\|)\",\"#-\\\\1\",answer)\n",
        "      res = re.subn(r\"#-\\|\",\" \",answer)\n",
        "      answer=res[0]\n",
        "      if res[1]>0:\n",
        "        replacePipe(answer)\n",
        "    answer = re.sub(r\"\\|\\|\",\"|\",answer)\n",
        "    infoBox = answer.split(\"|\")\n",
        "    for item in infoBox:\n",
        "      if \"=\" in item:\n",
        "        key = item.split(\"=\")[0].strip(' ')\n",
        "        value = item.split(\"=\")[1].rstrip(',').strip(' ')\n",
        "        if \",\" in value:\n",
        "          value = list(filter(None, value.split(\",\")))\n",
        "        if len(value)>0:\n",
        "          infoboxDict[key] = value\n",
        "    infoboxDict['responseCode'] = \"Success\"\n",
        "    return infoboxDict\n",
        "  except:\n",
        "    infoboxDict['responseCode'] = \"Parsing error\"\n",
        "    return infoboxDict\n",
        "getInfoboxUDF = udf(lambda x:cleanInfoBox(x))"
      ],
      "metadata": {
        "id": "dAoFgFZuB5eQ"
      },
      "execution_count": null,
      "outputs": []
    },
    {
      "cell_type": "code",
      "source": [
        "import time\n"
      ],
      "metadata": {
        "id": "EtVzmtJGF5iU"
      },
      "execution_count": null,
      "outputs": []
    },
    {
      "cell_type": "code",
      "source": [
        ""
      ],
      "metadata": {
        "id": "vXrvNCQuaUAa"
      },
      "execution_count": null,
      "outputs": []
    },
    {
      "cell_type": "code",
      "source": [
        "def getPageIndexinCat(category, continueFlag, gcmcontinue,list_pageIndex):\n",
        "    list_local = list_pageIndex\n",
        "    url = \"https://simple.wikipedia.org/w/api.php?action=query&generator=categorymembers&gcmlimit=500&gcmtitle=Category:\"\n",
        "    url= \"\".join([url,category])             \n",
        "    if(continueFlag == \"TRUE\"):\n",
        "      url= \"\".join([url,\"&continue=gcmcontinue||&gcmcontinue=\"])\n",
        "      url= \"\".join([url,gcmcontinue])\n",
        "    \n",
        "    url = \"\".join([url,\"&format=json\"])\n",
        "    jsonData = urlopen(url).read()\n",
        "    json_object = json.loads(jsonData)\n",
        "\n",
        "    for pageindex in json_object['query']['pages']:\n",
        "        list_local.append(pageindex)\n",
        "    try:\n",
        "      if json_object['continue'] != \"\":\n",
        "        getPageIndexinCat(category, \"TRUE\", json_object['continue']['gcmcontinue'],list_local)\n",
        "    except:\n",
        "      print(\"{} - ERROR Fetching page index for category : {}, Records found: {}\".format(datetime.now(), category,len(list_local)))\n",
        "\n",
        "    print(\"{} - Fetching page index for category : {}, Records found: {}\".format(datetime.now(), category,len(list_local)))\n",
        "    \n",
        "    #index_rdd = spark.sparkContext.parallelize(list_local)\n",
        "    #index_rdd.take(5)\n",
        "    return list_local"
      ],
      "metadata": {
        "id": "kLJuf_Knc3eE"
      },
      "execution_count": null,
      "outputs": []
    },
    {
      "cell_type": "code",
      "source": [
        "@udf\n",
        "def cleanInfoBoxtemp(answer):\n",
        "  infoboxDict = {}\n",
        "  try:\n",
        "    x=answer.index(\"{{Infobox\")\n",
        "    y=answer.index(\"'''\")\n",
        "    answer = answer[x:y].replace(\"\\n\",\"\")\n",
        "    answer = re.sub(r\"<ref.*<\\/ref>|<ref.*?\\/>|\\*|\\;\",\"\",answer)\n",
        "    #answer = re.sub(r\"<ref.*?\\/>|\\*|\\;\",\"\",answer)\n",
        "    answer = re.sub(r\"\\s\\s+|&nbsp\",\" \",answer)\n",
        "    #answer = re.sub(r\"&nbsp\",\" \",answer)\n",
        "    answer = re.sub(r\" = \",\"=\",answer)\n",
        "    answer = re.sub(r\"\\<\\!\\-\\-.*?\\-\\-\\>\",\"\",answer)\n",
        "    #answer = re.sub(r\"(?<=\\[\\[)(.*?)(?=\\]\\])\", \"\\\\1,\",answer)\n",
        "    answer = re.sub(r\"\\[\\[(.*?)\\]\\]\", \"\\\\1,\",answer)\n",
        "    answer = re.sub(r\"={{(.*?)\\|(.*?)}}\", \"=\\\\2,\",answer)\n",
        "    answer = re.sub(r\"{|}|<br />|<br/>|<br>\",\"\",answer)\n",
        "    #answer = re.sub(r\"(\\|+.*?=)\",\"#-\\\\1\",answer)\n",
        "    def replacePipe(answer):\n",
        "      answer = re.sub(r\"(\\|.[^=]*?\\|)\",\"#-\\\\1\",answer)\n",
        "      res = re.subn(r\"#-\\|\",\" \",answer)\n",
        "      answer=res[0]\n",
        "      if res[1]>0:\n",
        "        replacePipe(answer)\n",
        "    answer = re.sub(r\"\\|\\|\",\"|\",answer)\n",
        "    infoBox = answer.split(\"|\")\n",
        "    for item in infoBox:\n",
        "      if \"=\" in item:\n",
        "        key = item.split(\"=\")[0].strip(' ')\n",
        "        value = item.split(\"=\")[1].rstrip(',').strip(' ')\n",
        "        if \",\" in value:\n",
        "          value = list(filter(None, value.split(\",\")))\n",
        "        if len(value)>0:\n",
        "          infoboxDict[key] = value\n",
        "    infoboxDict['responseCode'] = \"Success\"\n",
        "    return str(infoboxDict)\n",
        "  except:\n",
        "    infoboxDict['responseCode'] = \"Parsing error\"\n",
        "    return str(infoboxDict)"
      ],
      "metadata": {
        "id": "cF8S3efNd2qo"
      },
      "execution_count": null,
      "outputs": []
    },
    {
      "cell_type": "code",
      "source": [
        "index_start_time = time.time()\n",
        "print(index_start_time)"
      ],
      "metadata": {
        "colab": {
          "base_uri": "https://localhost:8080/"
        },
        "id": "HHKctdETivi1",
        "outputId": "085c2078-0739-4da0-e559-5a7337d84c63"
      },
      "execution_count": null,
      "outputs": [
        {
          "output_type": "stream",
          "name": "stdout",
          "text": [
            "1639160988.5006332\n"
          ]
        }
      ]
    },
    {
      "cell_type": "code",
      "source": [
        "category = \"Movies_based_on_books\"\n",
        "\n",
        "pageIndexdf = spark.createDataFrame(getPageIndexinCat(category, \"N\", \"\",[]), StringType()).withColumnRenamed(\"value\",\"PageIndex\")\n",
        "\n",
        "pageContentdf = pageIndexdf.join(df,pageIndexdf.PageIndex == df.id,\"inner\").select('PageIndex','revision.text._VALUE')\n",
        "\n",
        "print(\"Category: {}, Total pages: {}\".format(category, pageContentdf.count()))\n",
        "\n",
        "pageContentdf.persist()\n",
        "\n",
        "\n",
        "\n",
        "\n"
      ],
      "metadata": {
        "colab": {
          "base_uri": "https://localhost:8080/"
        },
        "id": "DF1x8jrcbBBK",
        "outputId": "e1837f08-9f0a-4784-a846-a7bb3b28ffe6"
      },
      "execution_count": null,
      "outputs": [
        {
          "output_type": "stream",
          "name": "stdout",
          "text": [
            "2021-12-10 18:29:50.189683 - ERROR Fetching page index for category : Movies_based_on_books, Records found: 1058\n",
            "2021-12-10 18:29:50.190877 - Fetching page index for category : Movies_based_on_books, Records found: 1058\n",
            "2021-12-10 18:29:50.191825 - Fetching page index for category : Movies_based_on_books, Records found: 1058\n",
            "2021-12-10 18:29:50.192145 - Fetching page index for category : Movies_based_on_books, Records found: 1058\n",
            "Category: Movies_based_on_books, Total pages: 1055\n"
          ]
        },
        {
          "output_type": "execute_result",
          "data": {
            "text/plain": [
              "DataFrame[PageIndex: string, _VALUE: string]"
            ]
          },
          "metadata": {},
          "execution_count": 164
        }
      ]
    },
    {
      "cell_type": "code",
      "source": [
        "pageidDF = pageContentdf.filter(pageContentdf._VALUE.contains('{{Infobox')).select('PageIndex')\n",
        "pageidlist = [int(row.PageIndex) for row in pageidDF.collect()]"
      ],
      "metadata": {
        "id": "z296n6OvgRPr"
      },
      "execution_count": null,
      "outputs": []
    },
    {
      "cell_type": "code",
      "source": [
        "len(pageidlist)"
      ],
      "metadata": {
        "colab": {
          "base_uri": "https://localhost:8080/"
        },
        "id": "kDhdPpXYggmB",
        "outputId": "912213a6-1977-4607-fb66-f397252a4288"
      },
      "execution_count": null,
      "outputs": [
        {
          "output_type": "execute_result",
          "data": {
            "text/plain": [
              "227"
            ]
          },
          "metadata": {},
          "execution_count": 166
        }
      ]
    },
    {
      "cell_type": "code",
      "source": [
        "start_time = time.time()\n",
        "print(start_time)"
      ],
      "metadata": {
        "colab": {
          "base_uri": "https://localhost:8080/"
        },
        "id": "NgpR5A-tgW6B",
        "outputId": "fb251f45-0718-4167-a73d-e9367450da5b"
      },
      "execution_count": null,
      "outputs": [
        {
          "output_type": "stream",
          "name": "stdout",
          "text": [
            "1639161148.131105\n"
          ]
        }
      ]
    },
    {
      "cell_type": "code",
      "source": [
        "data = df.filter('redirect IS NULL').selectExpr('id','title',\n",
        "    'revision.text._VALUE AS text'\n",
        ").filter('redirect IS NULL').filter('ns == 0')"
      ],
      "metadata": {
        "id": "OC_LDLgMIpVn"
      },
      "execution_count": null,
      "outputs": []
    },
    {
      "cell_type": "code",
      "source": [
        "InfoData = data.filter(col('id').isin(pageidlist)).cache()"
      ],
      "metadata": {
        "id": "DidgHfGYBeud"
      },
      "execution_count": null,
      "outputs": []
    },
    {
      "cell_type": "code",
      "source": [
        "# InfoData.select(getInfoboxUDF('text').alias('info')).collect()"
      ],
      "metadata": {
        "id": "ejBPvS9HGTxX"
      },
      "execution_count": null,
      "outputs": []
    },
    {
      "cell_type": "code",
      "source": [
        "def extractMovieEntity(info):\n",
        "  Movie_attrib_list = ['name','budget','released','runtime','gross']\n",
        "  \n",
        "  MovieDict ={}\n",
        "  \n",
        "  try :\n",
        "    MovieDict =  {k:info[k] for k in Movie_attrib_list if k in info }\n",
        "  except:\n",
        "    MovieDict['responseCode'] = \"Parsing error\"\n",
        "  return MovieDict\n"
      ],
      "metadata": {
        "id": "iqrMXCKqbVzl"
      },
      "execution_count": null,
      "outputs": []
    },
    {
      "cell_type": "code",
      "source": [
        ""
      ],
      "metadata": {
        "id": "parSEzlbsK3_"
      },
      "execution_count": null,
      "outputs": []
    },
    {
      "cell_type": "code",
      "source": [
        "movieEntityUDF = udf(lambda x : extractMovieEntity(x) ,MapType(StringType(),StringType())  )"
      ],
      "metadata": {
        "id": "EyLPfhh6b7yh"
      },
      "execution_count": null,
      "outputs": []
    },
    {
      "cell_type": "code",
      "source": [
        "infodata= InfoData.select('title',getInfoboxUDF(col('text')).alias('info'))"
      ],
      "metadata": {
        "id": "obqvbFG6IHU4"
      },
      "execution_count": null,
      "outputs": []
    },
    {
      "cell_type": "code",
      "source": [
        "movieEntityNeodf = infodata.select('title',movieEntityUDF('info').alias('MovieEntity')).toPandas()\n"
      ],
      "metadata": {
        "id": "96kA272ns5Si"
      },
      "execution_count": null,
      "outputs": []
    },
    {
      "cell_type": "code",
      "source": [
        "movieEntityDFlist = list(movieEntityNeodf['MovieEntity'])"
      ],
      "metadata": {
        "id": "W4wXKZ_USPXp"
      },
      "execution_count": null,
      "outputs": []
    },
    {
      "cell_type": "code",
      "source": [
        "movieEntityLoadDF = pd.DataFrame(movieEntityDFlist)"
      ],
      "metadata": {
        "id": "kv-ZVKAsSY27"
      },
      "execution_count": null,
      "outputs": []
    },
    {
      "cell_type": "code",
      "source": [
        "\n",
        "# movieEntityNeodf['MovieEntity'].to_csv('movieent.csv')"
      ],
      "metadata": {
        "id": "xUbY6xiXXy98"
      },
      "execution_count": null,
      "outputs": []
    },
    {
      "cell_type": "code",
      "source": [
        ""
      ],
      "metadata": {
        "id": "V_xl8hNo2eYO"
      },
      "execution_count": null,
      "outputs": []
    },
    {
      "cell_type": "markdown",
      "source": [
        "#### Loading entities"
      ],
      "metadata": {
        "id": "i4lzThHb2f5u"
      }
    },
    {
      "cell_type": "code",
      "source": [
        ""
      ],
      "metadata": {
        "id": "DvQR6CcN2pYS"
      },
      "execution_count": null,
      "outputs": []
    },
    {
      "cell_type": "code",
      "source": [
        "global person_role_list\n",
        "person_role_list= ['starring','producer','writer','director','music']"
      ],
      "metadata": {
        "id": "RqLWhj2c2zmn"
      },
      "execution_count": null,
      "outputs": []
    },
    {
      "cell_type": "code",
      "source": [
        "def extractPersonRelation(info):\n",
        "  # person_role_list = ['starring','producer','writer','director','music']\n",
        "  \n",
        "  PersonRoleArray = []\n",
        "  PersonNameArray = []\n",
        "  \n",
        "  result_array = []\n",
        "  for k in person_role_list:\n",
        "    ## iterate through the role list to check if the entry isavailable\n",
        "    if k in info:\n",
        "      dictValue = info[k]\n",
        "\n",
        "    ## check if the value is not a standalone string to be exploded\n",
        "      if (~isinstance(dictValue,str)) & (len(dictValue) > 0):\n",
        "\n",
        "        for value in dictValue:\n",
        "          PersonRoleArray.append(k)\n",
        "          PersonNameArray.append(value)\n",
        "          result_array.append(k+\"~\"+value.strip())\n",
        "    ## otherwise assign the value\n",
        "      else:\n",
        "        PersonRoleArray.append(k)\n",
        "        PersonNameArray.append(dictValue)\n",
        "        result_array.append(k+\"~\"+dictValue.strip())\n",
        "\n",
        "    \n",
        "        \n",
        "  # try :\n",
        "  #   PersonRoleDict =  {k:info[k] for k in person_role_list if k in info }\n",
        "  # except:\n",
        "  #   PersonRoleDict['responseCode'] = \"Parsing error\"\n",
        "  return  result_array"
      ],
      "metadata": {
        "id": "vq8GdztBvkWR"
      },
      "execution_count": null,
      "outputs": []
    },
    {
      "cell_type": "code",
      "source": [
        "### Extracting person and relation"
      ],
      "metadata": {
        "id": "RD36vR2FTYpo"
      },
      "execution_count": null,
      "outputs": []
    },
    {
      "cell_type": "code",
      "source": [
        "PersonRelationUDF = udf(lambda x : extractPersonRelation(x),ArrayType(StringType()))"
      ],
      "metadata": {
        "id": "uBHTkVcpwfPX"
      },
      "execution_count": null,
      "outputs": []
    },
    {
      "cell_type": "code",
      "source": [
        "infodata.printSchema()\n"
      ],
      "metadata": {
        "id": "SSurOrmsObeX",
        "colab": {
          "base_uri": "https://localhost:8080/"
        },
        "outputId": "23bacedc-7e67-4eaa-977c-2c4f49003456"
      },
      "execution_count": null,
      "outputs": [
        {
          "output_type": "stream",
          "name": "stdout",
          "text": [
            "root\n",
            " |-- title: string (nullable = true)\n",
            " |-- info: string (nullable = true)\n",
            "\n"
          ]
        }
      ]
    },
    {
      "cell_type": "code",
      "source": [
        "relationPersonDF = infodata.select('title',PersonRelationUDF('info').alias('extractPersonRelation')).select('title',explode(col('extractPersonRelation')).alias('PersonRelation'))"
      ],
      "metadata": {
        "id": "og2JCN9awlJu"
      },
      "execution_count": null,
      "outputs": []
    },
    {
      "cell_type": "code",
      "source": [
        "movie_person_rel_df = relationPersonDF.select('title',split(col('PersonRelation'),'~')[0].alias('relation'),split(col('PersonRelation'),'~')[1].alias('person')).toPandas()"
      ],
      "metadata": {
        "id": "v8Was4RRX9cD"
      },
      "execution_count": null,
      "outputs": []
    },
    {
      "cell_type": "code",
      "source": [
        "person_entity = pd.DataFrame(movie_person_rel_df['person'].unique(),columns=['name'])"
      ],
      "metadata": {
        "id": "G4mWrkLczMeS"
      },
      "execution_count": null,
      "outputs": []
    },
    {
      "cell_type": "code",
      "source": [
        "# movie_person_rel_df.groupby(['person']).count().sort_values(['title'],ascending=False).head(10)"
      ],
      "metadata": {
        "id": "dTpQkb37EsLY"
      },
      "execution_count": null,
      "outputs": []
    },
    {
      "cell_type": "code",
      "source": [
        "end_time = time.time()\n",
        "print(end_time)"
      ],
      "metadata": {
        "colab": {
          "base_uri": "https://localhost:8080/"
        },
        "id": "CHO5NZioabe6",
        "outputId": "ee9cddff-82ad-4d55-f872-6e3b5e07879a"
      },
      "execution_count": null,
      "outputs": [
        {
          "output_type": "stream",
          "name": "stdout",
          "text": [
            "1639165740.1410468\n"
          ]
        }
      ]
    },
    {
      "cell_type": "code",
      "source": [
        "print(end_time-start_time)\n",
        "print(start_time-index_start_time)\n",
        "print(end_time-data_start_time)\n",
        "print(start_time - data_start_time)"
      ],
      "metadata": {
        "colab": {
          "base_uri": "https://localhost:8080/"
        },
        "id": "EKHQUaZVauWx",
        "outputId": "047c5c31-fa1d-44af-fc9d-cebb0a3f3852"
      },
      "execution_count": null,
      "outputs": [
        {
          "output_type": "stream",
          "name": "stdout",
          "text": [
            "4592.00994181633\n",
            "159.63047170639038\n",
            "4941.38808965683\n",
            "349.3781478404999\n"
          ]
        }
      ]
    },
    {
      "cell_type": "code",
      "source": [
        ""
      ],
      "metadata": {
        "id": "W7yHoVXRlihv"
      },
      "execution_count": null,
      "outputs": []
    },
    {
      "cell_type": "markdown",
      "source": [
        " Loading Data into Neo 4 j"
      ],
      "metadata": {
        "id": "fK-PnzHpXBjL"
      }
    },
    {
      "cell_type": "code",
      "source": [
        "class Neo4jConnection:\n",
        "    \n",
        "    def __init__(self, uri, user, pwd):\n",
        "        \n",
        "        self.__uri = uri\n",
        "        self.__user = user\n",
        "        self.__pwd = pwd\n",
        "        self.__driver = None\n",
        "        \n",
        "        try:\n",
        "            self.__driver = GraphDatabase.driver(self.__uri, auth=(self.__user, self.__pwd))\n",
        "        except Exception as e:\n",
        "            print(\"Failed to create the driver:\", e)\n",
        "        \n",
        "    def close(self):\n",
        "        \n",
        "        if self.__driver is not None:\n",
        "            self.__driver.close()\n",
        "        \n",
        "    def query(self, query, parameters=None, db=None):\n",
        "        \n",
        "        assert self.__driver is not None, \"Driver not initialized!\"\n",
        "        session = None\n",
        "        response = None\n",
        "        \n",
        "        try: \n",
        "            session = self.__driver.session(database=db) if db is not None else self.__driver.session() \n",
        "            response = list(session.run(query, parameters))\n",
        "        except Exception as e:\n",
        "            print(\"Query failed:\", e)\n",
        "        finally: \n",
        "            if session is not None:\n",
        "                session.close()\n",
        "        return response"
      ],
      "metadata": {
        "id": "kbRNd38DU3GU"
      },
      "execution_count": null,
      "outputs": []
    },
    {
      "cell_type": "code",
      "source": [
        "uri = 'bolt://3.87.48.16:7687'\n",
        "pwd = 'prints-discontinuance-holders'\n",
        "user= 'neo4j'\n",
        "conn = Neo4jConnection(uri=uri, user=user , pwd=pwd)"
      ],
      "metadata": {
        "id": "5NKR5nKbU6HQ"
      },
      "execution_count": null,
      "outputs": []
    },
    {
      "cell_type": "code",
      "source": [
        "delete_all_nodes = 'MATCH (n) DETACH DELETE n;'\n",
        "\n",
        "conn.query(delete_all_nodes)"
      ],
      "metadata": {
        "id": "lJKY6_lVVc9B",
        "colab": {
          "base_uri": "https://localhost:8080/"
        },
        "outputId": "6861d66e-3df9-4e48-b807-1b9e2f0b4229"
      },
      "execution_count": null,
      "outputs": [
        {
          "output_type": "execute_result",
          "data": {
            "text/plain": [
              "[]"
            ]
          },
          "metadata": {},
          "execution_count": 242
        }
      ]
    },
    {
      "cell_type": "code",
      "source": [
        "query = '''\n",
        "UNWIND $rows as row\n",
        " CREATE (e:Movie {  title : row.name, name : row.name ,budget : row.budget, released :row.released ,runtime :row.runtime } )\n",
        " '''\n",
        "batch_size = 1000\n",
        "batch_id = 0 \n",
        "while batch_id < len(movieEntityLoadDF)/batch_size:\n",
        "\n",
        "  res = conn.query(query, parameters = {'rows':movieEntityLoadDF[batch_id*batch_size: (batch_id+1)*batch_size].reset_index().to_dict('records')})\n",
        "  batch_id += 1"
      ],
      "metadata": {
        "id": "JNKFLFQ1ViDD"
      },
      "execution_count": null,
      "outputs": []
    },
    {
      "cell_type": "code",
      "source": [
        "query = '''\n",
        "UNWIND $rows as row\n",
        " CREATE (e:Person { name : row.name } )\n",
        " '''\n",
        "batch_size = 1000\n",
        "batch_id = 0 \n",
        "while batch_id < len(person_entity)/batch_size:\n",
        "\n",
        "  res = conn.query(query, parameters = {'rows':person_entity[batch_id*batch_size: (batch_id+1)*batch_size].reset_index().to_dict('records')})\n",
        "  batch_id += 1"
      ],
      "metadata": {
        "id": "1Rk7TmgVzR7H"
      },
      "execution_count": null,
      "outputs": []
    },
    {
      "cell_type": "code",
      "source": [
        "# query = ''' \n",
        "# UNWIND $rows as row\n",
        "# MATCH (entity1:Movie {name: row.title}),(entity2:Person {name: row.person})\n",
        "# CREATE (entity1)-[:LINKED {value: row.relation}]->(entity2)\n",
        "# '''\n",
        "# batch_size = 100\n",
        "# batch_id = 1 \n",
        "\n",
        "# while batch_id < len(movie_person_rel_df)/batch_size:\n",
        "\n",
        "#   res = conn.query(query, parameters = {'rows':movie_person_rel_df[batch_id*batch_size: (batch_id+1)*batch_size].reset_index(drop=True).to_dict('records')})\n",
        "#   batch_id += 1"
      ],
      "metadata": {
        "id": "d-RjIcRZzezO"
      },
      "execution_count": null,
      "outputs": []
    },
    {
      "cell_type": "code",
      "source": [
        ""
      ],
      "metadata": {
        "id": "nHH-EdGR5-OD"
      },
      "execution_count": null,
      "outputs": []
    },
    {
      "cell_type": "code",
      "source": [
        "query = ''' \n",
        "UNWIND $rows as row\n",
        "MATCH (entity1:Movie {name: row.title}),(entity2:Person {name: row.person})\n",
        "CALL apoc.create.relationship(entity1, row.relation,NULL, entity2) YIELD rel\n",
        "RETURN entity1.name, type(rel), entity2.name \n",
        "'''\n",
        "\n",
        "\n",
        "batch_size = 10\n",
        "batch_id = 1 \n",
        "\n",
        "while batch_id < len(movie_person_rel_df)/batch_size:\n",
        "# while batch_id < 3:\n",
        "\n",
        "  res = conn.query(query, parameters = {'rows':movie_person_rel_df[batch_id*batch_size: (batch_id+1)*batch_size].reset_index(drop=True).to_dict('records')})\n",
        "  batch_id += 1"
      ],
      "metadata": {
        "id": "qJFzYkoD5gkE"
      },
      "execution_count": null,
      "outputs": []
    },
    {
      "cell_type": "code",
      "source": [
        ""
      ],
      "metadata": {
        "colab": {
          "base_uri": "https://localhost:8080/"
        },
        "id": "Zl60T0mO5_3d",
        "outputId": "485ca92f-fbe2-41be-e9b5-a0eecf0417d3"
      },
      "execution_count": null,
      "outputs": [
        {
          "output_type": "execute_result",
          "data": {
            "text/plain": [
              "['starring', 'producer', 'writer', 'director', 'music']"
            ]
          },
          "metadata": {},
          "execution_count": 233
        }
      ]
    }
  ]
}