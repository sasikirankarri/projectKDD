{
 "cells": [
  {
   "cell_type": "code",
   "execution_count": 1,
   "id": "17d8a8b8",
   "metadata": {},
   "outputs": [],
   "source": [
    "from utils.Neo4jConnection import Neo4jConnection\n"
   ]
  },
  {
   "cell_type": "code",
   "execution_count": 2,
   "id": "8462ba07",
   "metadata": {},
   "outputs": [],
   "source": [
    "neo_config_file = open('neo4j.config','r')\n",
    "contents = neo_config_file.read().split('\\n')\n",
    "uri = contents[0].split('=')[1]\n",
    "pwd = contents[1].split('=')[1]\n",
    "user= contents[2].split('=')[1]\n"
   ]
  },
  {
   "cell_type": "code",
   "execution_count": 3,
   "id": "d4a6cb1a",
   "metadata": {},
   "outputs": [],
   "source": [
    "conn = Neo4jConnection(uri,user,pwd)"
   ]
  },
  {
   "cell_type": "code",
   "execution_count": 24,
   "id": "50bb280c",
   "metadata": {},
   "outputs": [],
   "source": []
  },
  {
   "cell_type": "code",
   "execution_count": null,
   "id": "dbb325e4",
   "metadata": {},
   "outputs": [],
   "source": []
  }
 ],
 "metadata": {
  "kernelspec": {
   "display_name": "Python 3",
   "language": "python",
   "name": "python3"
  },
  "language_info": {
   "codemirror_mode": {
    "name": "ipython",
    "version": 3
   },
   "file_extension": ".py",
   "mimetype": "text/x-python",
   "name": "python",
   "nbconvert_exporter": "python",
   "pygments_lexer": "ipython3",
   "version": "3.8.8"
  }
 },
 "nbformat": 4,
 "nbformat_minor": 5
}
